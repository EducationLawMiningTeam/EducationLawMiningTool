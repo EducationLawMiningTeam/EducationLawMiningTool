{
 "cells": [
  {
   "cell_type": "markdown",
   "metadata": {},
   "source": [
    "好的，我们继续深入讲解下一部分内容：**NumPy基础**。\n",
    "\n",
    "---\n",
    "\n",
    "### 1.2 NumPy基础\n",
    "\n",
    "NumPy（Numerical Python）是Python中用于科学计算的基础库。它提供了高效的多维数组对象以及各种用于操作数组的函数。NumPy是大多数数据处理和机器学习库的基础，了解并熟练使用NumPy是数据处理的关键。\n",
    "\n",
    "#### NumPy数组\n",
    "\n",
    "NumPy的核心是其强大的N维数组对象`ndarray`，它可以存储和操作大规模的数据集。以下是一些常用的NumPy数组操作：\n",
    "\n",
    "##### 创建数组\n",
    "\n",
    "1. 从列表创建数组："
   ]
  },
  {
   "cell_type": "code",
   "execution_count": 2,
   "metadata": {},
   "outputs": [
    {
     "name": "stdout",
     "output_type": "stream",
     "text": [
      "[1 2 3 4 5]\n",
      "[[1 2 3]\n",
      " [4 5 6]]\n"
     ]
    }
   ],
   "source": [
    "import numpy as np\n",
    "\n",
    "# 从列表创建一维数组\n",
    "array1 = np.array([1, 2, 3, 4, 5])\n",
    "\n",
    "# 从列表创建二维数组\n",
    "array2 = np.array([[1, 2, 3], [4, 5, 6]])\n",
    "\n",
    "print(array1)\n",
    "print(array2)"
   ]
  },
  {
   "cell_type": "markdown",
   "metadata": {},
   "source": [
    "2. 使用NumPy内置函数创建数组："
   ]
  },
  {
   "cell_type": "code",
   "execution_count": null,
   "metadata": {},
   "outputs": [],
   "source": [
    "# 创建全零数组\n",
    "zeros = np.zeros((3, 4))\n",
    "\n",
    "# 创建全一数组\n",
    "ones = np.ones((2, 3))\n",
    "\n",
    "# 创建单位矩阵\n",
    "eye = np.eye(4)\n",
    "\n",
    "# 创建随机数组\n",
    "random_array = np.random.random((3, 3))\n",
    "\n",
    "print(zeros)\n",
    "print(ones)\n",
    "print(eye)\n",
    "print(random_array)"
   ]
  },
  {
   "cell_type": "markdown",
   "metadata": {},
   "source": [
    "##### 数组操作\n",
    "\n",
    "1. 数组切片和索引："
   ]
  },
  {
   "cell_type": "code",
   "execution_count": 4,
   "metadata": {},
   "outputs": [
    {
     "name": "stdout",
     "output_type": "stream",
     "text": [
      "13\n",
      "[[ 6  7  8]\n",
      " [11 12 13]\n",
      " [16 17 18]]\n"
     ]
    }
   ],
   "source": [
    "# 创建一个5x5的数组\n",
    "array = np.arange(25).reshape(5, 5)\n",
    "\n",
    "# 访问数组元素\n",
    "print(array[2, 3])  # 输出第3行第4列的元素\n",
    "\n",
    "# 数组切片\n",
    "print(array[1:4, 1:4])  # 输出子数组"
   ]
  },
  {
   "cell_type": "markdown",
   "metadata": {},
   "source": [
    "2. 数组运算："
   ]
  },
  {
   "cell_type": "code",
   "execution_count": 5,
   "metadata": {},
   "outputs": [
    {
     "name": "stdout",
     "output_type": "stream",
     "text": [
      "[[2 4 6]\n",
      " [5 7 9]]\n"
     ]
    }
   ],
   "source": [
    "# 数组加法\n",
    "array1 = np.array([1, 2, 3])\n",
    "array2 = np.array([4, 5, 6])\n",
    "result = array1 + array2\n",
    "\n",
    "# 数组乘法\n",
    "result = array1 * array2\n",
    "\n",
    "# 数组广播\n",
    "array3 = np.array([[1, 2, 3], [4, 5, 6]])\n",
    "result = array3 + array1\n",
    "\n",
    "print(result)"
   ]
  },
  {
   "cell_type": "markdown",
   "metadata": {},
   "source": [
    "3. 常见的数组函数："
   ]
  },
  {
   "cell_type": "code",
   "execution_count": 6,
   "metadata": {},
   "outputs": [
    {
     "name": "stdout",
     "output_type": "stream",
     "text": [
      "24\n",
      "0\n",
      "12.0\n",
      "300\n",
      "[  0   1   3   6  10  15  21  28  36  45  55  66  78  91 105 120 136 153\n",
      " 171 190 210 231 253 276 300]\n",
      "[[ 0  5 10 15 20]\n",
      " [ 1  6 11 16 21]\n",
      " [ 2  7 12 17 22]\n",
      " [ 3  8 13 18 23]\n",
      " [ 4  9 14 19 24]]\n"
     ]
    }
   ],
   "source": [
    "# 求数组的最大值、最小值和平均值\n",
    "print(array.max())\n",
    "print(array.min())\n",
    "print(array.mean())\n",
    "\n",
    "# 数组求和和累积和\n",
    "print(array.sum())\n",
    "print(array.cumsum())\n",
    "\n",
    "# 数组转置\n",
    "print(array.T)"
   ]
  },
  {
   "cell_type": "markdown",
   "metadata": {},
   "source": [
    "##### 示例代码"
   ]
  },
  {
   "cell_type": "code",
   "execution_count": 7,
   "metadata": {},
   "outputs": [
    {
     "name": "stdout",
     "output_type": "stream",
     "text": [
      "原始数组:\n",
      "[[ 0  1  2  3  4]\n",
      " [ 5  6  7  8  9]\n",
      " [10 11 12 13 14]\n",
      " [15 16 17 18 19]\n",
      " [20 21 22 23 24]]\n",
      "\n",
      "第3行第4列的元素: 13\n",
      "\n",
      "子数组:\n",
      "[[ 6  7  8]\n",
      " [11 12 13]\n",
      " [16 17 18]]\n",
      "\n",
      "数组加法结果:\n",
      "[5 7 9]\n",
      "\n",
      "数组乘法结果:\n",
      "[ 4 10 18]\n",
      "\n",
      "数组广播结果:\n",
      "[[2 4 6]\n",
      " [5 7 9]]\n",
      "\n",
      "数组的最大值: 24\n",
      "数组的最小值: 0\n",
      "数组的平均值: 12.0\n",
      "\n",
      "数组的求和: 300\n",
      "数组的累积和:\n",
      "[  0   1   3   6  10  15  21  28  36  45  55  66  78  91 105 120 136 153\n",
      " 171 190 210 231 253 276 300]\n",
      "\n",
      "数组的转置:\n",
      "[[ 0  5 10 15 20]\n",
      " [ 1  6 11 16 21]\n",
      " [ 2  7 12 17 22]\n",
      " [ 3  8 13 18 23]\n",
      " [ 4  9 14 19 24]]\n"
     ]
    }
   ],
   "source": [
    "import numpy as np\n",
    "\n",
    "# 创建一个5x5的数组\n",
    "array = np.arange(25).reshape(5, 5)\n",
    "print(\"原始数组:\")\n",
    "print(array)\n",
    "\n",
    "# 访问数组元素\n",
    "element = array[2, 3]\n",
    "print(\"\\n第3行第4列的元素:\", element)\n",
    "\n",
    "# 数组切片\n",
    "sub_array = array[1:4, 1:4]\n",
    "print(\"\\n子数组:\")\n",
    "print(sub_array)\n",
    "\n",
    "# 数组加法\n",
    "array1 = np.array([1, 2, 3])\n",
    "array2 = np.array([4, 5, 6])\n",
    "result_add = array1 + array2\n",
    "print(\"\\n数组加法结果:\")\n",
    "print(result_add)\n",
    "\n",
    "# 数组乘法\n",
    "result_mul = array1 * array2\n",
    "print(\"\\n数组乘法结果:\")\n",
    "print(result_mul)\n",
    "\n",
    "# 数组广播\n",
    "array3 = np.array([[1, 2, 3], [4, 5, 6]])\n",
    "result_broadcast = array3 + array1\n",
    "print(\"\\n数组广播结果:\")\n",
    "print(result_broadcast)\n",
    "\n",
    "# 求数组的最大值、最小值和平均值\n",
    "max_val = array.max()\n",
    "min_val = array.min()\n",
    "mean_val = array.mean()\n",
    "print(\"\\n数组的最大值:\", max_val)\n",
    "print(\"数组的最小值:\", min_val)\n",
    "print(\"数组的平均值:\", mean_val)\n",
    "\n",
    "# 数组求和和累积和\n",
    "sum_val = array.sum()\n",
    "cumsum_val = array.cumsum()\n",
    "print(\"\\n数组的求和:\", sum_val)\n",
    "print(\"数组的累积和:\")\n",
    "print(cumsum_val)\n",
    "\n",
    "# 数组转置\n",
    "transpose_array = array.T\n",
    "print(\"\\n数组的转置:\")\n",
    "print(transpose_array)"
   ]
  },
  {
   "cell_type": "markdown",
   "metadata": {},
   "source": [
    "这些是NumPy库的一些基础操作和方法。在数据处理过程中，NumPy可以极大地提高计算效率和代码的简洁性。"
   ]
  },
  {
   "cell_type": "code",
   "execution_count": null,
   "metadata": {},
   "outputs": [],
   "source": []
  }
 ],
 "metadata": {
  "kernelspec": {
   "display_name": "PyCharm (EQL-DIV-ICML-Python3)",
   "language": "python",
   "name": "pycharm-87c5b2de"
  },
  "language_info": {
   "codemirror_mode": {
    "name": "ipython",
    "version": 3
   },
   "file_extension": ".py",
   "mimetype": "text/x-python",
   "name": "python",
   "nbconvert_exporter": "python",
   "pygments_lexer": "ipython3",
   "version": "3.8.1"
  }
 },
 "nbformat": 4,
 "nbformat_minor": 4
}
