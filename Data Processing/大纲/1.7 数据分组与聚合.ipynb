{
 "cells": [
  {
   "cell_type": "markdown",
   "metadata": {},
   "source": [
    "### 1.7 数据分组与聚合\n",
    "\n",
    "数据分组与聚合操作主要用于对数据进行分组，并对每个分组执行汇总操作。Pandas提供了非常强大的分组与聚合功能，使得数据分析变得非常方便。\n",
    "\n",
    "#### 1.7.1 数据分组\n",
    "\n",
    "数据分组是将数据按某些条件分成若干组。常用的分组方法是`groupby`。"
   ]
  },
  {
   "cell_type": "code",
   "execution_count": 1,
   "metadata": {},
   "outputs": [
    {
     "name": "stdout",
     "output_type": "stream",
     "text": [
      "City: Chicago\n",
      "    Name  Age     City  Salary\n",
      "3  David   32  Chicago   80000\n",
      "5    Eve   28  Chicago   90000\n",
      "City: Los Angeles\n",
      "      Name  Age         City  Salary\n",
      "2  Charlie   22  Los Angeles   70000\n",
      "City: New York\n",
      "    Name  Age      City  Salary\n",
      "0  Alice   24  New York   50000\n",
      "4  Alice   24  New York   50000\n",
      "City: San Francisco\n",
      "  Name  Age           City  Salary\n",
      "1  Bob   27  San Francisco   60000\n"
     ]
    }
   ],
   "source": [
    "import pandas as pd\n",
    "\n",
    "# 创建示例DataFrame\n",
    "data = {\n",
    "    'Name': ['Alice', 'Bob', 'Charlie', 'David', 'Alice', 'Eve'],\n",
    "    'Age': [24, 27, 22, 32, 24, 28],\n",
    "    'City': ['New York', 'San Francisco', 'Los Angeles', 'Chicago', 'New York', 'Chicago'],\n",
    "    'Salary': [50000, 60000, 70000, 80000, 50000, 90000]\n",
    "}\n",
    "df = pd.DataFrame(data)\n",
    "\n",
    "# 按城市分组\n",
    "grouped = df.groupby('City')\n",
    "\n",
    "# 显示每个分组的数据\n",
    "for name, group in grouped:\n",
    "    print(f\"City: {name}\")\n",
    "    print(group)"
   ]
  },
  {
   "cell_type": "markdown",
   "metadata": {},
   "source": [
    "#### 1.7.2 数据聚合\n",
    "\n",
    "聚合操作是对每个分组执行汇总操作，如求和、均值、计数等。常用的聚合方法有`sum`、`mean`、`count`等。"
   ]
  },
  {
   "cell_type": "code",
   "execution_count": 2,
   "metadata": {},
   "outputs": [
    {
     "name": "stdout",
     "output_type": "stream",
     "text": [
      "按城市分组并求和:\n",
      "                     Name  Age  Salary\n",
      "City                                  \n",
      "Chicago          DavidEve   60  170000\n",
      "Los Angeles       Charlie   22   70000\n",
      "New York       AliceAlice   48  100000\n",
      "San Francisco         Bob   27   60000\n",
      "按城市分组并计数:\n",
      "               Name  Age  Salary\n",
      "City                            \n",
      "Chicago           2    2       2\n",
      "Los Angeles       1    1       1\n",
      "New York          2    2       2\n",
      "San Francisco     1    1       1\n"
     ]
    }
   ],
   "source": [
    "# 按城市分组并求和\n",
    "grouped_sum = grouped.sum()\n",
    "print(\"按城市分组并求和:\")\n",
    "print(grouped_sum)\n",
    "\n",
    "# 按城市分组并计数\n",
    "grouped_count = grouped.count()\n",
    "print(\"按城市分组并计数:\")\n",
    "print(grouped_count)"
   ]
  },
  {
   "cell_type": "markdown",
   "metadata": {},
   "source": [
    "#### 1.7.3 多重聚合\n",
    "\n",
    "可以对每个分组执行多个聚合操作，使用`agg`方法。"
   ]
  },
  {
   "cell_type": "code",
   "execution_count": 3,
   "metadata": {},
   "outputs": [
    {
     "name": "stdout",
     "output_type": "stream",
     "text": [
      "按城市分组并执行多个聚合操作:\n",
      "                Age      Salary         \n",
      "               mean max     sum     mean\n",
      "City                                    \n",
      "Chicago        30.0  32  170000  85000.0\n",
      "Los Angeles    22.0  22   70000  70000.0\n",
      "New York       24.0  24  100000  50000.0\n",
      "San Francisco  27.0  27   60000  60000.0\n"
     ]
    }
   ],
   "source": [
    "# 按城市分组并执行多个聚合操作\n",
    "grouped_agg = grouped.agg({'Age': ['mean', 'max'], 'Salary': ['sum', 'mean']})\n",
    "print(\"按城市分组并执行多个聚合操作:\")\n",
    "print(grouped_agg)"
   ]
  },
  {
   "cell_type": "markdown",
   "metadata": {},
   "source": [
    "#### 1.7.4 透视表\n",
    "\n",
    "透视表是一个数据处理工具，用于根据特定的索引和列汇总数据。Pandas中的`pivot_table`方法可以非常方便地创建透视表。"
   ]
  },
  {
   "cell_type": "code",
   "execution_count": 4,
   "metadata": {},
   "outputs": [
    {
     "name": "stdout",
     "output_type": "stream",
     "text": [
      "透视表:\n",
      "Name             Alice      Bob  Charlie    David      Eve\n",
      "City                                                      \n",
      "Chicago            NaN      NaN      NaN  80000.0  90000.0\n",
      "Los Angeles        NaN      NaN  70000.0      NaN      NaN\n",
      "New York       50000.0      NaN      NaN      NaN      NaN\n",
      "San Francisco      NaN  60000.0      NaN      NaN      NaN\n"
     ]
    }
   ],
   "source": [
    "# 创建透视表\n",
    "pivot_table = pd.pivot_table(df, values='Salary', index='City', columns='Name', aggfunc='mean')\n",
    "print(\"透视表:\")\n",
    "print(pivot_table)"
   ]
  },
  {
   "cell_type": "markdown",
   "metadata": {},
   "source": [
    "#### 示例代码\n",
    "\n",
    "下面是一个综合示例，展示了如何使用Pandas进行数据分组与聚合。"
   ]
  },
  {
   "cell_type": "code",
   "execution_count": 5,
   "metadata": {},
   "outputs": [
    {
     "name": "stdout",
     "output_type": "stream",
     "text": [
      "原始数据:\n",
      "      Name  Age           City  Salary\n",
      "0    Alice   24       New York   50000\n",
      "1      Bob   27  San Francisco   60000\n",
      "2  Charlie   22    Los Angeles   70000\n",
      "3    David   32        Chicago   80000\n",
      "4    Alice   24       New York   50000\n",
      "5      Eve   28        Chicago   90000\n",
      "\n",
      "分组数据:\n",
      "City: Chicago\n",
      "    Name  Age     City  Salary\n",
      "3  David   32  Chicago   80000\n",
      "5    Eve   28  Chicago   90000\n",
      "City: Los Angeles\n",
      "      Name  Age         City  Salary\n",
      "2  Charlie   22  Los Angeles   70000\n",
      "City: New York\n",
      "    Name  Age      City  Salary\n",
      "0  Alice   24  New York   50000\n",
      "4  Alice   24  New York   50000\n",
      "City: San Francisco\n",
      "  Name  Age           City  Salary\n",
      "1  Bob   27  San Francisco   60000\n",
      "\n",
      "按城市分组并求和:\n",
      "                     Name  Age  Salary\n",
      "City                                  \n",
      "Chicago          DavidEve   60  170000\n",
      "Los Angeles       Charlie   22   70000\n",
      "New York       AliceAlice   48  100000\n",
      "San Francisco         Bob   27   60000\n",
      "\n",
      "按城市分组并计数:\n",
      "               Name  Age  Salary\n",
      "City                            \n",
      "Chicago           2    2       2\n",
      "Los Angeles       1    1       1\n",
      "New York          2    2       2\n",
      "San Francisco     1    1       1\n",
      "\n",
      "按城市分组并执行多个聚合操作:\n",
      "                Age      Salary         \n",
      "               mean max     sum     mean\n",
      "City                                    \n",
      "Chicago        30.0  32  170000  85000.0\n",
      "Los Angeles    22.0  22   70000  70000.0\n",
      "New York       24.0  24  100000  50000.0\n",
      "San Francisco  27.0  27   60000  60000.0\n",
      "\n",
      "透视表:\n",
      "Name             Alice      Bob  Charlie    David      Eve\n",
      "City                                                      \n",
      "Chicago            NaN      NaN      NaN  80000.0  90000.0\n",
      "Los Angeles        NaN      NaN  70000.0      NaN      NaN\n",
      "New York       50000.0      NaN      NaN      NaN      NaN\n",
      "San Francisco      NaN  60000.0      NaN      NaN      NaN\n"
     ]
    }
   ],
   "source": [
    "import pandas as pd\n",
    "\n",
    "# 创建示例DataFrame\n",
    "data = {\n",
    "    'Name': ['Alice', 'Bob', 'Charlie', 'David', 'Alice', 'Eve'],\n",
    "    'Age': [24, 27, 22, 32, 24, 28],\n",
    "    'City': ['New York', 'San Francisco', 'Los Angeles', 'Chicago', 'New York', 'Chicago'],\n",
    "    'Salary': [50000, 60000, 70000, 80000, 50000, 90000]\n",
    "}\n",
    "df = pd.DataFrame(data)\n",
    "\n",
    "print(\"原始数据:\")\n",
    "print(df)\n",
    "\n",
    "# 按城市分组\n",
    "grouped = df.groupby('City')\n",
    "\n",
    "# 显示每个分组的数据\n",
    "print(\"\\n分组数据:\")\n",
    "for name, group in grouped:\n",
    "    print(f\"City: {name}\")\n",
    "    print(group)\n",
    "\n",
    "# 按城市分组并求和\n",
    "grouped_sum = grouped.sum()\n",
    "print(\"\\n按城市分组并求和:\")\n",
    "print(grouped_sum)\n",
    "\n",
    "# 按城市分组并计数\n",
    "grouped_count = grouped.count()\n",
    "print(\"\\n按城市分组并计数:\")\n",
    "print(grouped_count)\n",
    "\n",
    "# 按城市分组并执行多个聚合操作\n",
    "grouped_agg = grouped.agg({'Age': ['mean', 'max'], 'Salary': ['sum', 'mean']})\n",
    "print(\"\\n按城市分组并执行多个聚合操作:\")\n",
    "print(grouped_agg)\n",
    "\n",
    "# 创建透视表\n",
    "pivot_table = pd.pivot_table(df, values='Salary', index='City', columns='Name', aggfunc='mean')\n",
    "print(\"\\n透视表:\")\n",
    "print(pivot_table)"
   ]
  },
  {
   "cell_type": "markdown",
   "metadata": {},
   "source": [
    "通过这些详细的步骤和示例，你可以对数据进行全面的分组与聚合，以提取有意义的统计信息。"
   ]
  },
  {
   "cell_type": "code",
   "execution_count": null,
   "metadata": {},
   "outputs": [],
   "source": []
  }
 ],
 "metadata": {
  "kernelspec": {
   "display_name": "PyCharm (EQL-DIV-ICML-Python3)",
   "language": "python",
   "name": "pycharm-87c5b2de"
  },
  "language_info": {
   "codemirror_mode": {
    "name": "ipython",
    "version": 3
   },
   "file_extension": ".py",
   "mimetype": "text/x-python",
   "name": "python",
   "nbconvert_exporter": "python",
   "pygments_lexer": "ipython3",
   "version": "3.8.1"
  }
 },
 "nbformat": 4,
 "nbformat_minor": 4
}
