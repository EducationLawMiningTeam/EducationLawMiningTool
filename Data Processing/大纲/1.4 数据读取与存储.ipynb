{
 "cells": [
  {
   "cell_type": "markdown",
   "metadata": {},
   "source": [
    "### 1.4 数据读取与存储\n",
    "\n",
    "在数据分析和处理过程中，经常需要读取各种格式的数据文件并进行存储。Pandas提供了丰富的功能来处理这些操作。以下是一些常见的数据读取和存储方法。\n",
    "\n",
    "\n",
    "1. **CSV文件**："
   ]
  },
  {
   "cell_type": "code",
   "execution_count": 3,
   "metadata": {},
   "outputs": [
    {
     "name": "stdout",
     "output_type": "stream",
     "text": [
      "      Name  Age           City\n",
      "0    Alice   24       New York\n",
      "1      Bob   27  San Francisco\n",
      "2  Charlie   22    Los Angeles\n",
      "3    David   32        Chicago\n"
     ]
    }
   ],
   "source": [
    "import pandas as pd\n",
    "\n",
    "# # 创建示例数据\n",
    "# data_csv = {\n",
    "#     'Name': ['Alice', 'Bob', 'Charlie', 'David'],\n",
    "#     'Age': [24, 27, 22, 32],\n",
    "#     'City': ['New York', 'San Francisco', 'Los Angeles', 'Chicago']\n",
    "# }\n",
    "\n",
    "# df_csv = pd.DataFrame(data_csv)\n",
    "\n",
    "# 保存为CSV文件\n",
    "df_csv.to_csv('example.csv', index=False)\n",
    "\n",
    "\n",
    "# 读取CSV文件\n",
    "df_csv = pd.read_csv('example.csv')\n",
    "\n",
    "print(df_csv.head())"
   ]
  },
  {
   "cell_type": "markdown",
   "metadata": {},
   "source": [
    "2. **Excel文件**："
   ]
  },
  {
   "cell_type": "code",
   "execution_count": 4,
   "metadata": {},
   "outputs": [
    {
     "name": "stderr",
     "output_type": "stream",
     "text": [
      "<ipython-input-4-45840b840756>:11: UserWarning: Pandas requires version '1.4.3' or newer of 'xlsxwriter' (version '1.2.9' currently installed).\n",
      "  df_excel.to_excel('example.xlsx', sheet_name='Sheet1', index=False)\n"
     ]
    },
    {
     "name": "stdout",
     "output_type": "stream",
     "text": [
      "       Product  Price  Quantity\n",
      "0       Widget  19.99       100\n",
      "1       Gadget  29.99       150\n",
      "2  Thingamajig  39.99       200\n"
     ]
    }
   ],
   "source": [
    "# # 创建示例数据\n",
    "# data_excel = {\n",
    "#     'Product': ['Widget', 'Gadget', 'Thingamajig'],\n",
    "#     'Price': [19.99, 29.99, 39.99],\n",
    "#     'Quantity': [100, 150, 200]\n",
    "# }\n",
    "\n",
    "# df_excel = pd.DataFrame(data_excel)\n",
    "\n",
    "# # 保存为Excel文件\n",
    "# df_excel.to_excel('example.xlsx', sheet_name='Sheet1', index=False)\n",
    "\n",
    "\n",
    "# 读取Excel文件\n",
    "df_excel = pd.read_excel('example.xlsx', sheet_name='Sheet1')\n",
    "\n",
    "print(df_excel.head())"
   ]
  },
  {
   "cell_type": "markdown",
   "metadata": {},
   "source": [
    "3. **SQL数据库**："
   ]
  },
  {
   "cell_type": "code",
   "execution_count": null,
   "metadata": {},
   "outputs": [],
   "source": [
    "import sqlite3\n",
    "\n",
    "# 创建数据库连接\n",
    "conn = sqlite3.connect('example.db')\n",
    "\n",
    "# 读取SQL查询结果到DataFrame\n",
    "df_sql = pd.read_sql_query('SELECT * FROM table_name', conn)\n",
    "\n",
    "print(df_sql.head())"
   ]
  },
  {
   "cell_type": "markdown",
   "metadata": {},
   "source": [
    "4. **JSON文件**："
   ]
  },
  {
   "cell_type": "code",
   "execution_count": 9,
   "metadata": {},
   "outputs": [
    {
     "name": "stdout",
     "output_type": "stream",
     "text": [
      "     Company  Revenue  Employees\n",
      "0  Company A  1000000         50\n",
      "1  Company B  1500000         75\n",
      "2  Company C  2000000        100\n"
     ]
    }
   ],
   "source": [
    "# 创建示例数据\n",
    "data_json = {\n",
    "    'Company': ['Company A', 'Company B', 'Company C'],\n",
    "    'Revenue': [1000000, 1500000, 2000000],\n",
    "    'Employees': [50, 75, 100]\n",
    "}\n",
    "\n",
    "df_json = pd.DataFrame(data_json)\n",
    "\n",
    "# 保存为JSON文件\n",
    "df_json.to_json('example.json')\n",
    "\n",
    "# 读取JSON文件\n",
    "df_json = pd.read_json('example.json')\n",
    "\n",
    "print(df_json.head())"
   ]
  },
  {
   "cell_type": "markdown",
   "metadata": {},
   "source": [
    "5. **HTML表格**："
   ]
  },
  {
   "cell_type": "code",
   "execution_count": null,
   "metadata": {},
   "outputs": [],
   "source": [
    "# 读取HTML表格\n",
    "url = 'your url'\n",
    "dfs_html = pd.read_html(url)\n",
    "\n",
    "# 读取第一个表格\n",
    "df_html = dfs_html[0]\n",
    "\n",
    "print(df_html.head())"
   ]
  },
  {
   "cell_type": "markdown",
   "metadata": {},
   "source": [
    "#### 示例代码\n",
    "\n",
    "下面是一个综合示例，展示了如何读取和存储不同格式的数据。"
   ]
  },
  {
   "cell_type": "code",
   "execution_count": 14,
   "metadata": {},
   "outputs": [
    {
     "name": "stdout",
     "output_type": "stream",
     "text": [
      "CSV文件内容:\n",
      "      Name  Age           City\n",
      "0    Alice   24       New York\n",
      "1      Bob   27  San Francisco\n",
      "2  Charlie   22    Los Angeles\n",
      "3    David   32        Chicago\n",
      "\n",
      "Excel文件内容:\n",
      "       Product  Price  Quantity\n",
      "0       Widget  19.99       100\n",
      "1       Gadget  29.99       150\n",
      "2  Thingamajig  39.99       200\n",
      "\n",
      "JSON文件内容:\n",
      "     Company  Revenue  Employees\n",
      "0  Company A  1000000         50\n",
      "1  Company B  1500000         75\n",
      "2  Company C  2000000        100\n",
      "\n",
      "CSV文件已保存为 'output.csv'\n",
      "\n",
      "Excel文件已保存为 'output.xlsx'\n",
      "\n",
      "JSON文件已保存为 'output.json'\n"
     ]
    },
    {
     "name": "stderr",
     "output_type": "stream",
     "text": [
      "<ipython-input-14-0cb8a2f27291>:37: UserWarning: Pandas requires version '1.4.3' or newer of 'xlsxwriter' (version '1.2.9' currently installed).\n",
      "  df_excel.to_excel('output.xlsx', sheet_name='Sheet1', index=False)\n"
     ]
    }
   ],
   "source": [
    "import pandas as pd\n",
    "import sqlite3\n",
    "\n",
    "# 读取CSV文件\n",
    "df_csv = pd.read_csv('example.csv')\n",
    "print(\"CSV文件内容:\")\n",
    "print(df_csv.head())\n",
    "\n",
    "# 读取Excel文件\n",
    "df_excel = pd.read_excel('example.xlsx', sheet_name='Sheet1')\n",
    "print(\"\\nExcel文件内容:\")\n",
    "print(df_excel.head())\n",
    "\n",
    "# # 读取SQL数据库\n",
    "# conn = sqlite3.connect('example.db')\n",
    "# df_sql = pd.read_sql_query('SELECT * FROM table_name', conn)\n",
    "# print(\"\\nSQL数据库内容:\")\n",
    "# print(df_sql.head())\n",
    "\n",
    "# 读取JSON文件\n",
    "df_json = pd.read_json('example.json')\n",
    "print(\"\\nJSON文件内容:\")\n",
    "print(df_json.head())\n",
    "\n",
    "# # 读取HTML表格\n",
    "# url = 'https://example.com/table.html'\n",
    "# dfs_html = pd.read_html(url)\n",
    "# df_html = dfs_html[0]\n",
    "# print(\"\\nHTML表格内容:\")\n",
    "# print(df_html.head())\n",
    "\n",
    "# 存储为CSV文件\n",
    "df_csv.to_csv('output.csv', index=False)\n",
    "print(\"\\nCSV文件已保存为 'output.csv'\")\n",
    "\n",
    "# 存储为Excel文件\n",
    "df_excel.to_excel('output.xlsx', sheet_name='Sheet1', index=False)\n",
    "print(\"\\nExcel文件已保存为 'output.xlsx'\")\n",
    "\n",
    "# 存储到SQL数据库\n",
    "# df_sql.to_sql('table_name', conn, if_exists='replace', index=False)\n",
    "# print(\"\\nSQL数据库已更新\")\n",
    "\n",
    "# 存储为JSON文件\n",
    "df_json.to_json('output.json')\n",
    "print(\"\\nJSON文件已保存为 'output.json'\")"
   ]
  }
 ],
 "metadata": {
  "kernelspec": {
   "display_name": "PyCharm (EQL-DIV-ICML-Python3)",
   "language": "python",
   "name": "pycharm-87c5b2de"
  },
  "language_info": {
   "codemirror_mode": {
    "name": "ipython",
    "version": 3
   },
   "file_extension": ".py",
   "mimetype": "text/x-python",
   "name": "python",
   "nbconvert_exporter": "python",
   "pygments_lexer": "ipython3",
   "version": "3.8.1"
  }
 },
 "nbformat": 4,
 "nbformat_minor": 4
}
