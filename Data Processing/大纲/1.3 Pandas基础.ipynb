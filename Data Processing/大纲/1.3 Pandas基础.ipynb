{
 "cells": [
  {
   "cell_type": "markdown",
   "metadata": {},
   "source": [
    "### 1.3 Pandas基础\n",
    "\n",
    "Pandas是一个数据处理和分析的开源库，提供了高效易用的数据结构和数据分析工具。Pandas的核心数据结构是Series和DataFrame，它们用于存储和操作表格数据。\n",
    "\n",
    "#### 1.3.1 Pandas的核心数据结构\n",
    "\n",
    "1. **Series**：一维数据结构，可以看作是带标签的数组。\n",
    "2. **DataFrame**：二维数据结构，可以看作是带有行标签和列标签的表格。\n",
    "\n",
    "##### 创建Series和DataFrame\n",
    "\n",
    "1. **创建Series**："
   ]
  },
  {
   "cell_type": "code",
   "execution_count": 1,
   "metadata": {},
   "outputs": [
    {
     "name": "stdout",
     "output_type": "stream",
     "text": [
      "0    1\n",
      "1    2\n",
      "2    3\n",
      "3    4\n",
      "4    5\n",
      "dtype: int64\n",
      "a    1\n",
      "b    2\n",
      "c    3\n",
      "dtype: int64\n"
     ]
    }
   ],
   "source": [
    "import pandas as pd\n",
    "\n",
    "# 从列表创建Series\n",
    "series = pd.Series([1, 2, 3, 4, 5])\n",
    "\n",
    "# 从字典创建Series\n",
    "series_from_dict = pd.Series({'a': 1, 'b': 2, 'c': 3})\n",
    "\n",
    "print(series)\n",
    "print(series_from_dict)"
   ]
  },
  {
   "cell_type": "markdown",
   "metadata": {},
   "source": [
    "2. **创建DataFrame**："
   ]
  },
  {
   "cell_type": "code",
   "execution_count": 3,
   "metadata": {},
   "outputs": [
    {
     "name": "stdout",
     "output_type": "stream",
     "text": [
      "      Name  Age           City\n",
      "0    Alice   24       New York\n",
      "1      Bob   27  San Francisco\n",
      "2  Charlie   22    Los Angeles\n",
      "3    David   32        Chicago\n"
     ]
    }
   ],
   "source": [
    "# 从字典创建DataFrame\n",
    "data = {\n",
    "    'Name': ['Alice', 'Bob', 'Charlie', 'David'],\n",
    "    'Age': [24, 27, 22, 32],\n",
    "    'City': ['New York', 'San Francisco', 'Los Angeles', 'Chicago']\n",
    "}\n",
    "df = pd.DataFrame(data)\n",
    "\n",
    "print(df)"
   ]
  },
  {
   "cell_type": "markdown",
   "metadata": {},
   "source": [
    "##### DataFrame的基本操作\n",
    "\n",
    "1. **查看数据**："
   ]
  },
  {
   "cell_type": "code",
   "execution_count": 4,
   "metadata": {},
   "outputs": [
    {
     "name": "stdout",
     "output_type": "stream",
     "text": [
      "      Name  Age           City\n",
      "0    Alice   24       New York\n",
      "1      Bob   27  San Francisco\n",
      "2  Charlie   22    Los Angeles\n",
      "3    David   32        Chicago\n",
      "      Name  Age           City\n",
      "0    Alice   24       New York\n",
      "1      Bob   27  San Francisco\n",
      "2  Charlie   22    Los Angeles\n",
      "3    David   32        Chicago\n",
      "<class 'pandas.core.frame.DataFrame'>\n",
      "RangeIndex: 4 entries, 0 to 3\n",
      "Data columns (total 3 columns):\n",
      " #   Column  Non-Null Count  Dtype \n",
      "---  ------  --------------  ----- \n",
      " 0   Name    4 non-null      object\n",
      " 1   Age     4 non-null      int64 \n",
      " 2   City    4 non-null      object\n",
      "dtypes: int64(1), object(2)\n",
      "memory usage: 224.0+ bytes\n",
      "None\n",
      "             Age\n",
      "count   4.000000\n",
      "mean   26.250000\n",
      "std     4.349329\n",
      "min    22.000000\n",
      "25%    23.500000\n",
      "50%    25.500000\n",
      "75%    28.250000\n",
      "max    32.000000\n"
     ]
    }
   ],
   "source": [
    "# 显示前几行数据\n",
    "print(df.head())\n",
    "\n",
    "# 显示后几行数据\n",
    "print(df.tail())\n",
    "\n",
    "# 显示数据的基本信息\n",
    "print(df.info())\n",
    "\n",
    "# 显示数据的描述性统计信息\n",
    "print(df.describe())"
   ]
  },
  {
   "cell_type": "markdown",
   "metadata": {},
   "source": [
    "2. **选择数据**："
   ]
  },
  {
   "cell_type": "code",
   "execution_count": 5,
   "metadata": {},
   "outputs": [
    {
     "name": "stdout",
     "output_type": "stream",
     "text": [
      "0      Alice\n",
      "1        Bob\n",
      "2    Charlie\n",
      "3      David\n",
      "Name: Name, dtype: object\n",
      "      Name  Age\n",
      "0    Alice   24\n",
      "1      Bob   27\n",
      "2  Charlie   22\n",
      "3    David   32\n",
      "Name              Bob\n",
      "Age                27\n",
      "City    San Francisco\n",
      "Name: 1, dtype: object\n",
      "Name              Bob\n",
      "Age                27\n",
      "City    San Francisco\n",
      "Name: 1, dtype: object\n",
      "    Name  Age           City\n",
      "1    Bob   27  San Francisco\n",
      "3  David   32        Chicago\n"
     ]
    }
   ],
   "source": [
    "# 选择列\n",
    "print(df['Name'])\n",
    "\n",
    "# 选择多列\n",
    "print(df[['Name', 'Age']])\n",
    "\n",
    "# 选择行\n",
    "print(df.iloc[1])  # 使用整数位置选择\n",
    "print(df.loc[1])   # 使用标签选择\n",
    "\n",
    "# 条件选择\n",
    "print(df[df['Age'] > 25])"
   ]
  },
  {
   "cell_type": "markdown",
   "metadata": {},
   "source": [
    "3. **数据操作**："
   ]
  },
  {
   "cell_type": "code",
   "execution_count": 6,
   "metadata": {},
   "outputs": [
    {
     "name": "stdout",
     "output_type": "stream",
     "text": [
      "      Name  Age  Salary\n",
      "0    Alice   25   50000\n",
      "1      Bob   28   60000\n",
      "2  Charlie   23   70000\n",
      "3    David   33   80000\n"
     ]
    }
   ],
   "source": [
    "# 增加新列\n",
    "df['Salary'] = [50000, 60000, 70000, 80000]\n",
    "\n",
    "# 修改列数据\n",
    "df['Age'] = df['Age'] + 1\n",
    "\n",
    "# 删除列\n",
    "df = df.drop(columns=['City'])\n",
    "\n",
    "print(df)"
   ]
  },
  {
   "cell_type": "markdown",
   "metadata": {},
   "source": [
    "4. **处理缺失值**："
   ]
  },
  {
   "cell_type": "code",
   "execution_count": 7,
   "metadata": {},
   "outputs": [
    {
     "name": "stdout",
     "output_type": "stream",
     "text": [
      "    Name    Age   City\n",
      "0  False  False  False\n",
      "1  False  False   True\n",
      "2  False   True  False\n",
      "3  False  False  False\n",
      "      Name   Age         City\n",
      "0    Alice  24.0     New York\n",
      "1      Bob  27.0         None\n",
      "2  Charlie   NaN  Los Angeles\n",
      "3    David  32.0      Chicago\n",
      "      Name        Age         City\n",
      "0    Alice  24.000000     New York\n",
      "1      Bob  27.000000      Unknown\n",
      "2  Charlie  27.666667  Los Angeles\n",
      "3    David  32.000000      Chicago\n",
      "    Name   Age      City\n",
      "0  Alice  24.0  New York\n",
      "3  David  32.0   Chicago\n"
     ]
    }
   ],
   "source": [
    "# 创建含有缺失值的DataFrame\n",
    "data_with_nan = {\n",
    "    'Name': ['Alice', 'Bob', 'Charlie', 'David'],\n",
    "    'Age': [24, 27, None, 32],\n",
    "    'City': ['New York', None, 'Los Angeles', 'Chicago']\n",
    "}\n",
    "df_nan = pd.DataFrame(data_with_nan)\n",
    "\n",
    "# 查看缺失值\n",
    "print(df_nan.isnull())\n",
    "\n",
    "# 填充缺失值\n",
    "df_nan_filled = df_nan.fillna({'Age': df_nan['Age'].mean(), 'City': 'Unknown'})\n",
    "\n",
    "# 删除含有缺失值的行\n",
    "df_nan_dropped = df_nan.dropna()\n",
    "\n",
    "print(df_nan)\n",
    "print(df_nan_filled)\n",
    "print(df_nan_dropped)"
   ]
  },
  {
   "cell_type": "markdown",
   "metadata": {},
   "source": [
    "5. **数据分组与聚合**："
   ]
  },
  {
   "cell_type": "code",
   "execution_count": 8,
   "metadata": {},
   "outputs": [
    {
     "name": "stdout",
     "output_type": "stream",
     "text": [
      "         Age  Salary\n",
      "Name                \n",
      "Alice     25   50000\n",
      "Bob       28   60000\n",
      "Charlie   23   70000\n",
      "David     33   80000\n"
     ]
    }
   ],
   "source": [
    "# 分组并求和\n",
    "grouped = df.groupby('Name').sum()\n",
    "\n",
    "print(grouped)"
   ]
  },
  {
   "cell_type": "markdown",
   "metadata": {},
   "source": [
    "#### 示例代码"
   ]
  },
  {
   "cell_type": "code",
   "execution_count": 9,
   "metadata": {},
   "outputs": [
    {
     "name": "stdout",
     "output_type": "stream",
     "text": [
      "原始DataFrame:\n",
      "      Name  Age           City\n",
      "0    Alice   24       New York\n",
      "1      Bob   27  San Francisco\n",
      "2  Charlie   22    Los Angeles\n",
      "3    David   32        Chicago\n",
      "\n",
      "前几行数据:\n",
      "      Name  Age           City\n",
      "0    Alice   24       New York\n",
      "1      Bob   27  San Francisco\n",
      "2  Charlie   22    Los Angeles\n",
      "3    David   32        Chicago\n",
      "\n",
      "数据的基本信息:\n",
      "<class 'pandas.core.frame.DataFrame'>\n",
      "RangeIndex: 4 entries, 0 to 3\n",
      "Data columns (total 3 columns):\n",
      " #   Column  Non-Null Count  Dtype \n",
      "---  ------  --------------  ----- \n",
      " 0   Name    4 non-null      object\n",
      " 1   Age     4 non-null      int64 \n",
      " 2   City    4 non-null      object\n",
      "dtypes: int64(1), object(2)\n",
      "memory usage: 224.0+ bytes\n",
      "None\n",
      "\n",
      "选择'Name'列:\n",
      "0      Alice\n",
      "1        Bob\n",
      "2    Charlie\n",
      "3      David\n",
      "Name: Name, dtype: object\n",
      "\n",
      "选择年龄大于25的行:\n",
      "    Name  Age           City\n",
      "1    Bob   27  San Francisco\n",
      "3  David   32        Chicago\n",
      "\n",
      "增加新列后的DataFrame:\n",
      "      Name  Age           City  Salary\n",
      "0    Alice   24       New York   50000\n",
      "1      Bob   27  San Francisco   60000\n",
      "2  Charlie   22    Los Angeles   70000\n",
      "3    David   32        Chicago   80000\n",
      "\n",
      "修改'Age'列后的DataFrame:\n",
      "      Name  Age           City  Salary\n",
      "0    Alice   25       New York   50000\n",
      "1      Bob   28  San Francisco   60000\n",
      "2  Charlie   23    Los Angeles   70000\n",
      "3    David   33        Chicago   80000\n",
      "\n",
      "删除'City'列后的DataFrame:\n",
      "      Name  Age  Salary\n",
      "0    Alice   25   50000\n",
      "1      Bob   28   60000\n",
      "2  Charlie   23   70000\n",
      "3    David   33   80000\n",
      "\n",
      "含有缺失值的DataFrame:\n",
      "      Name   Age         City\n",
      "0    Alice  24.0     New York\n",
      "1      Bob  27.0         None\n",
      "2  Charlie   NaN  Los Angeles\n",
      "3    David  32.0      Chicago\n",
      "\n",
      "填充缺失值后的DataFrame:\n",
      "      Name        Age         City\n",
      "0    Alice  24.000000     New York\n",
      "1      Bob  27.000000      Unknown\n",
      "2  Charlie  27.666667  Los Angeles\n",
      "3    David  32.000000      Chicago\n",
      "\n",
      "按'Name'分组并求和:\n",
      "         Age  Salary\n",
      "Name                \n",
      "Alice     25   50000\n",
      "Bob       28   60000\n",
      "Charlie   23   70000\n",
      "David     33   80000\n"
     ]
    }
   ],
   "source": [
    "import pandas as pd\n",
    "\n",
    "# 创建一个DataFrame\n",
    "data = {\n",
    "    'Name': ['Alice', 'Bob', 'Charlie', 'David'],\n",
    "    'Age': [24, 27, 22, 32],\n",
    "    'City': ['New York', 'San Francisco', 'Los Angeles', 'Chicago']\n",
    "}\n",
    "df = pd.DataFrame(data)\n",
    "print(\"原始DataFrame:\")\n",
    "print(df)\n",
    "\n",
    "# 显示前几行数据\n",
    "print(\"\\n前几行数据:\")\n",
    "print(df.head())\n",
    "\n",
    "# 显示数据的基本信息\n",
    "print(\"\\n数据的基本信息:\")\n",
    "print(df.info())\n",
    "\n",
    "# 选择列\n",
    "print(\"\\n选择'Name'列:\")\n",
    "print(df['Name'])\n",
    "\n",
    "# 条件选择\n",
    "print(\"\\n选择年龄大于25的行:\")\n",
    "print(df[df['Age'] > 25])\n",
    "\n",
    "# 增加新列\n",
    "df['Salary'] = [50000, 60000, 70000, 80000]\n",
    "print(\"\\n增加新列后的DataFrame:\")\n",
    "print(df)\n",
    "\n",
    "# 修改列数据\n",
    "df['Age'] = df['Age'] + 1\n",
    "print(\"\\n修改'Age'列后的DataFrame:\")\n",
    "print(df)\n",
    "\n",
    "# 删除列\n",
    "df = df.drop(columns=['City'])\n",
    "print(\"\\n删除'City'列后的DataFrame:\")\n",
    "print(df)\n",
    "\n",
    "# 创建含有缺失值的DataFrame\n",
    "data_with_nan = {\n",
    "    'Name': ['Alice', 'Bob', 'Charlie', 'David'],\n",
    "    'Age': [24, 27, None, 32],\n",
    "    'City': ['New York', None, 'Los Angeles', 'Chicago']\n",
    "}\n",
    "df_nan = pd.DataFrame(data_with_nan)\n",
    "print(\"\\n含有缺失值的DataFrame:\")\n",
    "print(df_nan)\n",
    "\n",
    "# 填充缺失值\n",
    "df_nan_filled = df_nan.fillna({'Age': df_nan['Age'].mean(), 'City': 'Unknown'})\n",
    "print(\"\\n填充缺失值后的DataFrame:\")\n",
    "print(df_nan_filled)\n",
    "\n",
    "# 分组并求和\n",
    "grouped = df.groupby('Name').sum()\n",
    "print(\"\\n按'Name'分组并求和:\")\n",
    "print(grouped)"
   ]
  },
  {
   "cell_type": "markdown",
   "metadata": {},
   "source": [
    "Pandas库提供了强大的数据处理和分析功能，掌握这些基本操作将为你进一步的数据分析奠定坚实的基础。"
   ]
  },
  {
   "cell_type": "code",
   "execution_count": null,
   "metadata": {},
   "outputs": [],
   "source": []
  }
 ],
 "metadata": {
  "kernelspec": {
   "display_name": "PyCharm (EQL-DIV-ICML-Python3)",
   "language": "python",
   "name": "pycharm-87c5b2de"
  },
  "language_info": {
   "codemirror_mode": {
    "name": "ipython",
    "version": 3
   },
   "file_extension": ".py",
   "mimetype": "text/x-python",
   "name": "python",
   "nbconvert_exporter": "python",
   "pygments_lexer": "ipython3",
   "version": "3.8.1"
  }
 },
 "nbformat": 4,
 "nbformat_minor": 4
}
