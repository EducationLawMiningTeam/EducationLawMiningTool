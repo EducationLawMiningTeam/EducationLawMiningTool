{
 "cells": [
  {
   "cell_type": "markdown",
   "metadata": {},
   "source": [
    "Python在数据处理中的应用广泛且灵活。我们将从Python的核心优势和常用库开始介绍，逐步深入理解Python在数据处理中的应用。\n",
    "\n",
    "### 1.1 Python数据处理概述\n",
    "\n",
    "Python因其简洁的语法和丰富的库生态系统，成为了数据处理的首选语言。它不仅能够高效处理各种类型的数据，还能方便地进行数据分析和可视化。\n",
    "\n",
    "Python在数据处理中的优势\n",
    "- 简洁易学：Python的语法简洁明了，适合快速上手和开发。\n",
    "- 强大的库支持：Python拥有丰富的数据处理库，如NumPy、Pandas、SciPy等。\n",
    "- 社区活跃：Python有一个庞大且活跃的社区，提供了大量的资源和支持。\n",
    "- 跨平台：Python可以在多种操作系统上运行，具有良好的跨平台兼容性。\n",
    "- 集成性强：Python可以方便地与其他编程语言和工具进行集成，如R、SQL、Hadoop等。\n",
    "\n",
    "常用数据处理库\n",
    "- NumPy：用于高性能的科学计算和数组操作。\n",
    "- Pandas：提供了强大的数据结构和数据分析工具，适合处理表格和异构数据。\n",
    "- SciPy：基于NumPy，提供了更多的科学计算函数和算法。\n",
    "- Matplotlib：用于创建静态、动态和交互式可视化图表。\n",
    "- Seaborn：基于Matplotlib，提供了更高级的统计图表绘制功能。\n",
    "\n",
    "让我们通过一个简单的实例来展示Python的强大数据处理能力。我们将使用Pandas库读取一个CSV文件并进行简单的数据操作。"
   ]
  },
  {
   "cell_type": "code",
   "execution_count": 1,
   "metadata": {},
   "outputs": [
    {
     "name": "stdout",
     "output_type": "stream",
     "text": [
      "   sepal length (cm)  sepal width (cm)  petal length (cm)  petal width (cm)  \\\n",
      "0                5.1               3.5                1.4               0.2   \n",
      "1                4.9               3.0                1.4               0.2   \n",
      "2                4.7               3.2                1.3               0.2   \n",
      "3                4.6               3.1                1.5               0.2   \n",
      "4                5.0               3.6                1.4               0.2   \n",
      "\n",
      "   species  \n",
      "0        0  \n",
      "1        0  \n",
      "2        0  \n",
      "3        0  \n",
      "4        0  \n",
      "       sepal length (cm)  sepal width (cm)  petal length (cm)  \\\n",
      "count         150.000000        150.000000         150.000000   \n",
      "mean            5.843333          3.057333           3.758000   \n",
      "std             0.828066          0.435866           1.765298   \n",
      "min             4.300000          2.000000           1.000000   \n",
      "25%             5.100000          2.800000           1.600000   \n",
      "50%             5.800000          3.000000           4.350000   \n",
      "75%             6.400000          3.300000           5.100000   \n",
      "max             7.900000          4.400000           6.900000   \n",
      "\n",
      "       petal width (cm)     species  \n",
      "count        150.000000  150.000000  \n",
      "mean           1.199333    1.000000  \n",
      "std            0.762238    0.819232  \n",
      "min            0.100000    0.000000  \n",
      "25%            0.300000    0.000000  \n",
      "50%            1.300000    1.000000  \n",
      "75%            1.800000    2.000000  \n",
      "max            2.500000    2.000000  \n",
      "         sepal length (cm)  sepal width (cm)  petal length (cm)  \\\n",
      "species                                                           \n",
      "0                    5.006             3.428              1.462   \n",
      "1                    5.936             2.770              4.260   \n",
      "2                    6.588             2.974              5.552   \n",
      "\n",
      "         petal width (cm)  \n",
      "species                    \n",
      "0                   0.246  \n",
      "1                   1.326  \n",
      "2                   2.026  \n"
     ]
    }
   ],
   "source": [
    "import pandas as pd\n",
    "from sklearn.datasets import load_iris\n",
    "\n",
    "# 加载Iris数据集\n",
    "iris = load_iris()\n",
    "data = pd.DataFrame(data=iris.data, columns=iris.feature_names)\n",
    "data['species'] = iris.target\n",
    "\n",
    "# 显示数据的前5行\n",
    "print(data.head())\n",
    "\n",
    "# 统计描述\n",
    "print(data.describe())\n",
    "\n",
    "# 处理缺失值（此数据集中没有缺失值，但我们将展示方法）\n",
    "data.fillna(data.mean(), inplace=True)\n",
    "\n",
    "# 数据分组\n",
    "grouped_data = data.groupby('species').mean()\n",
    "\n",
    "print(grouped_data)\n"
   ]
  },
  {
   "cell_type": "markdown",
   "metadata": {},
   "source": [
    "### 示例解析\n",
    "1. 加载Iris数据集：使用sklearn.datasets中的load_iris函数加载Iris数据集，并将其转换为DataFrame格式。\n",
    "2. 显示数据的前5行：使用head()方法查看数据的前5行，了解数据结构和内容。\n",
    "3. 统计描述：使用describe()方法获取数据的统计描述，包括均值、标准差、最小值、最大值等。\n",
    "4. 处理缺失值：使用fillna()方法将缺失值填充为列的均值（Iris数据集中没有缺失值，但这展示了方法）。\n",
    "5. 数据分组：使用groupby()方法按类别（species）分组，并计算每组的平均值。"
   ]
  },
  {
   "cell_type": "code",
   "execution_count": null,
   "metadata": {},
   "outputs": [],
   "source": []
  }
 ],
 "metadata": {
  "kernelspec": {
   "display_name": "PyCharm (EQL-DIV-ICML-Python3)",
   "language": "python",
   "name": "pycharm-87c5b2de"
  },
  "language_info": {
   "codemirror_mode": {
    "name": "ipython",
    "version": 3
   },
   "file_extension": ".py",
   "mimetype": "text/x-python",
   "name": "python",
   "nbconvert_exporter": "python",
   "pygments_lexer": "ipython3",
   "version": "3.8.1"
  }
 },
 "nbformat": 4,
 "nbformat_minor": 4
}
