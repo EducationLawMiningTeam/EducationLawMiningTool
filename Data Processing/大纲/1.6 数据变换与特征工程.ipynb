{
 "cells": [
  {
   "cell_type": "markdown",
   "metadata": {},
   "source": [
    "### 1.6 数据变换与特征工程\n",
    "\n",
    "数据变换与特征工程是对数据进行处理和转换的过程，以便更好地进行分析和建模。以下是一些常见的数据变换和特征工程方法。\n",
    "\n",
    "#### 1.6.1 数据标准化和归一化\n",
    "\n",
    "标准化和归一化是常用的数据预处理方法，用于将数据转换到相同的尺度，以消除量纲差异的影响。\n",
    "\n",
    "1. **标准化**：将数据转换为均值为0，标准差为1的正态分布。"
   ]
  },
  {
   "cell_type": "code",
   "execution_count": 2,
   "metadata": {},
   "outputs": [
    {
     "name": "stdout",
     "output_type": "stream",
     "text": [
      "标准化后的数据:\n",
      "[[-1.41421356 -1.41421356]\n",
      " [-0.70710678 -0.70710678]\n",
      " [ 0.          0.        ]\n",
      " [ 0.70710678  0.70710678]\n",
      " [ 1.41421356  1.41421356]]\n"
     ]
    }
   ],
   "source": [
    "from sklearn.preprocessing import StandardScaler\n",
    "import pandas as pd\n",
    "\n",
    "# 创建一个示例DataFrame\n",
    "data = {\n",
    "    'Feature1': [10, 20, 30, 40, 50],\n",
    "    'Feature2': [5, 15, 25, 35, 45]\n",
    "}\n",
    "df = pd.DataFrame(data)\n",
    "\n",
    "# 标准化\n",
    "scaler = StandardScaler()\n",
    "df_standardized = scaler.fit_transform(df)\n",
    "\n",
    "print(\"标准化后的数据:\")\n",
    "print(df_standardized)"
   ]
  },
  {
   "cell_type": "markdown",
   "metadata": {},
   "source": [
    "2. **归一化**：将数据缩放到0到1的范围内。"
   ]
  },
  {
   "cell_type": "code",
   "execution_count": 3,
   "metadata": {},
   "outputs": [
    {
     "name": "stdout",
     "output_type": "stream",
     "text": [
      "归一化后的数据:\n",
      "[[0.   0.  ]\n",
      " [0.25 0.25]\n",
      " [0.5  0.5 ]\n",
      " [0.75 0.75]\n",
      " [1.   1.  ]]\n"
     ]
    }
   ],
   "source": [
    "from sklearn.preprocessing import MinMaxScaler\n",
    "\n",
    "# 归一化\n",
    "scaler = MinMaxScaler()\n",
    "df_normalized = scaler.fit_transform(df)\n",
    "\n",
    "print(\"归一化后的数据:\")\n",
    "print(df_normalized)"
   ]
  },
  {
   "cell_type": "markdown",
   "metadata": {},
   "source": [
    "#### 1.6.2 数据编码\n",
    "\n",
    "对于分类变量，需要将其转换为数值形式。常见的编码方法包括独热编码和标签编码。\n",
    "\n",
    "1. **独热编码**："
   ]
  },
  {
   "cell_type": "code",
   "execution_count": 5,
   "metadata": {},
   "outputs": [
    {
     "name": "stdout",
     "output_type": "stream",
     "text": [
      "独热编码后的数据:\n",
      "   City_Chicago  City_Los Angeles  City_New York  City_San Francisco\n",
      "0         False             False           True               False\n",
      "1         False             False          False                True\n",
      "2         False              True          False               False\n",
      "3          True             False          False               False\n"
     ]
    }
   ],
   "source": [
    "# 创建一个含有分类变量的DataFrame\n",
    "data = {\n",
    "    'City': ['New York', 'San Francisco', 'Los Angeles', 'Chicago']\n",
    "}\n",
    "df = pd.DataFrame(data)\n",
    "\n",
    "# 独热编码\n",
    "df_encoded = pd.get_dummies(df, columns=['City'])\n",
    "\n",
    "print(\"独热编码后的数据:\")\n",
    "print(df_encoded)"
   ]
  },
  {
   "cell_type": "markdown",
   "metadata": {},
   "source": [
    "2. **标签编码**："
   ]
  },
  {
   "cell_type": "code",
   "execution_count": 6,
   "metadata": {},
   "outputs": [
    {
     "name": "stdout",
     "output_type": "stream",
     "text": [
      "标签编码后的数据:\n",
      "            City  City_Label\n",
      "0       New York           2\n",
      "1  San Francisco           3\n",
      "2    Los Angeles           1\n",
      "3        Chicago           0\n"
     ]
    }
   ],
   "source": [
    "from sklearn.preprocessing import LabelEncoder\n",
    "\n",
    "# 标签编码\n",
    "encoder = LabelEncoder()\n",
    "df['City_Label'] = encoder.fit_transform(df['City'])\n",
    "\n",
    "print(\"标签编码后的数据:\")\n",
    "print(df)"
   ]
  },
  {
   "cell_type": "markdown",
   "metadata": {},
   "source": [
    "#### 1.6.3 特征选择\n",
    "\n",
    "特征选择用于选择对模型性能影响较大的特征。常见的方法有过滤法、包裹法和嵌入法。\n",
    "\n",
    "1. **过滤法**：基于统计检验或相关性选择特征。"
   ]
  },
  {
   "cell_type": "code",
   "execution_count": 22,
   "metadata": {},
   "outputs": [
    {
     "name": "stdout",
     "output_type": "stream",
     "text": [
      "特征矩阵X:\n",
      "        Age    Salary  City_Chicago  City_Los Angeles  City_New York  \\\n",
      "0 -1.341641 -1.341641         False             False           True   \n",
      "1 -0.447214 -0.447214         False             False          False   \n",
      "2  0.447214  0.447214         False              True          False   \n",
      "3  1.341641  1.341641          True             False          False   \n",
      "\n",
      "   City_San Francisco  \n",
      "0               False  \n",
      "1                True  \n",
      "2               False  \n",
      "3               False  \n",
      "过滤法选择的特征:\n",
      "[[True False]\n",
      " [False True]\n",
      " [False False]\n",
      " [False False]]\n"
     ]
    }
   ],
   "source": [
    "import pandas as pd\n",
    "from sklearn.preprocessing import StandardScaler, MinMaxScaler, LabelEncoder\n",
    "from sklearn.feature_selection import SelectKBest, f_classif, RFE\n",
    "from sklearn.linear_model import LogisticRegression\n",
    "from sklearn.ensemble import ExtraTreesClassifier\n",
    "\n",
    "# 创建示例DataFrame\n",
    "data = {\n",
    "    'Age': [25, 35, 45, 55],\n",
    "    'Salary': [50000, 60000, 70000, 80000],\n",
    "    'City': ['New York', 'San Francisco', 'Los Angeles', 'Chicago'],\n",
    "    'Purchased': [0, 1, 0, 1]\n",
    "}\n",
    "df = pd.DataFrame(data)\n",
    "\n",
    "# 数据标准化\n",
    "scaler = StandardScaler()\n",
    "df[['Age', 'Salary']] = scaler.fit_transform(df[['Age', 'Salary']])\n",
    "\n",
    "# 独热编码\n",
    "df = pd.get_dummies(df, columns=['City'])\n",
    "\n",
    "# 特征选择\n",
    "X = df.drop(columns=['Purchased'])\n",
    "y = df['Purchased']\n",
    "\n",
    "# 确保X是正确的DataFrame或ndarray格式\n",
    "print(\"特征矩阵X:\")\n",
    "print(X)\n",
    "\n",
    "# 过滤法 - 选择K个最佳特征\n",
    "selector = SelectKBest(score_func=f_classif, k=2)\n",
    "X_new = selector.fit_transform(X, y)\n",
    "\n",
    "print(\"过滤法选择的特征:\")\n",
    "print(X_new)"
   ]
  },
  {
   "cell_type": "markdown",
   "metadata": {},
   "source": [
    "2. **包裹法**：使用特定模型选择特征。"
   ]
  },
  {
   "cell_type": "code",
   "execution_count": 18,
   "metadata": {
    "pycharm": {
     "is_executing": true
    }
   },
   "outputs": [
    {
     "name": "stdout",
     "output_type": "stream",
     "text": [
      "特征排名:\n",
      "[4 1 6 3 5 2]\n"
     ]
    }
   ],
   "source": [
    "from sklearn.feature_selection import RFE\n",
    "from sklearn.linear_model import LogisticRegression\n",
    "\n",
    "# 创建逻辑回归模型\n",
    "model = LogisticRegression()\n",
    "\n",
    "# 递归特征消除\n",
    "rfe = RFE(model, n_features_to_select=1)\n",
    "fit = rfe.fit(X, y)\n",
    "\n",
    "print(\"特征排名:\")\n",
    "print(fit.ranking_)"
   ]
  },
  {
   "cell_type": "markdown",
   "metadata": {},
   "source": [
    "3. **嵌入法**：基于模型自身的特征重要性选择特征。"
   ]
  },
  {
   "cell_type": "code",
   "execution_count": 19,
   "metadata": {},
   "outputs": [
    {
     "name": "stdout",
     "output_type": "stream",
     "text": [
      "特征重要性:\n",
      "[0.11166667 0.19666667 0.175      0.16666667 0.115      0.235     ]\n"
     ]
    }
   ],
   "source": [
    "from sklearn.ensemble import ExtraTreesClassifier\n",
    "\n",
    "# 创建一个ExtraTrees分类器\n",
    "model = ExtraTreesClassifier()\n",
    "model.fit(X, y)\n",
    "\n",
    "# 显示特征重要性\n",
    "print(\"特征重要性:\")\n",
    "print(model.feature_importances_)"
   ]
  },
  {
   "cell_type": "markdown",
   "metadata": {},
   "source": [
    "#### 1.6.4 特征工程的具体应用示例\n",
    "\n",
    "综合运用上述方法，对一个示例DataFrame进行特征工程。"
   ]
  },
  {
   "cell_type": "code",
   "execution_count": 21,
   "metadata": {},
   "outputs": [
    {
     "name": "stdout",
     "output_type": "stream",
     "text": [
      "标准化后的数据:\n",
      "        Age    Salary           City  Purchased\n",
      "0 -1.341641 -1.341641       New York          0\n",
      "1 -0.447214 -0.447214  San Francisco          1\n",
      "2  0.447214  0.447214    Los Angeles          0\n",
      "3  1.341641  1.341641        Chicago          1\n",
      "独热编码后的数据:\n",
      "        Age    Salary  Purchased  City_Chicago  City_Los Angeles  \\\n",
      "0 -1.341641 -1.341641          0         False             False   \n",
      "1 -0.447214 -0.447214          1         False             False   \n",
      "2  0.447214  0.447214          0         False              True   \n",
      "3  1.341641  1.341641          1          True             False   \n",
      "\n",
      "   City_New York  City_San Francisco  \n",
      "0           True               False  \n",
      "1          False                True  \n",
      "2          False               False  \n",
      "3          False               False  \n",
      "过滤法选择的特征:\n",
      "[[False True False]\n",
      " [False False True]\n",
      " [True False False]\n",
      " [False False False]]\n",
      "包裹法特征排名:\n",
      "[4 1 6 3 5 2]\n",
      "嵌入法特征重要性:\n",
      "[0.13333333 0.15666667 0.15166667 0.205      0.15833333 0.195     ]\n"
     ]
    }
   ],
   "source": [
    "import pandas as pd\n",
    "from sklearn.preprocessing import StandardScaler, MinMaxScaler, LabelEncoder\n",
    "from sklearn.feature_selection import SelectKBest, f_classif, RFE\n",
    "from sklearn.linear_model import LogisticRegression\n",
    "from sklearn.ensemble import ExtraTreesClassifier\n",
    "\n",
    "# 创建示例DataFrame\n",
    "data = {\n",
    "    'Age': [25, 35, 45, 55],\n",
    "    'Salary': [50000, 60000, 70000, 80000],\n",
    "    'City': ['New York', 'San Francisco', 'Los Angeles', 'Chicago'],\n",
    "    'Purchased': [0, 1, 0, 1]\n",
    "}\n",
    "df = pd.DataFrame(data)\n",
    "\n",
    "# 数据标准化\n",
    "scaler = StandardScaler()\n",
    "df[['Age', 'Salary']] = scaler.fit_transform(df[['Age', 'Salary']])\n",
    "\n",
    "print(\"标准化后的数据:\")\n",
    "print(df)\n",
    "\n",
    "# 独热编码\n",
    "df = pd.get_dummies(df, columns=['City'])\n",
    "\n",
    "print(\"独热编码后的数据:\")\n",
    "print(df)\n",
    "\n",
    "# 特征选择\n",
    "X = df.drop(columns=['Purchased'])\n",
    "y = df['Purchased']\n",
    "\n",
    "# 过滤法\n",
    "selector = SelectKBest(score_func=f_classif, k=3)\n",
    "X_new = selector.fit_transform(X, y)\n",
    "\n",
    "print(\"过滤法选择的特征:\")\n",
    "print(X_new)\n",
    "\n",
    "# 包裹法\n",
    "model = LogisticRegression()\n",
    "rfe = RFE(model, n_features_to_select=1)\n",
    "fit = rfe.fit(X, y)\n",
    "\n",
    "print(\"包裹法特征排名:\")\n",
    "print(fit.ranking_)\n",
    "\n",
    "# 嵌入法\n",
    "model = ExtraTreesClassifier()\n",
    "model.fit(X, y)\n",
    "\n",
    "print(\"嵌入法特征重要性:\")\n",
    "print(model.feature_importances_)"
   ]
  },
  {
   "cell_type": "markdown",
   "metadata": {},
   "source": [
    "通过这些详细的步骤和示例，你可以对数据进行全面的变换和特征工程，以提高模型的性能和分析的准确性。。"
   ]
  },
  {
   "cell_type": "code",
   "execution_count": null,
   "metadata": {},
   "outputs": [],
   "source": []
  }
 ],
 "metadata": {
  "kernelspec": {
   "display_name": "PyCharm (EQL-DIV-ICML-Python3)",
   "language": "python",
   "name": "pycharm-87c5b2de"
  },
  "language_info": {
   "codemirror_mode": {
    "name": "ipython",
    "version": 3
   },
   "file_extension": ".py",
   "mimetype": "text/x-python",
   "name": "python",
   "nbconvert_exporter": "python",
   "pygments_lexer": "ipython3",
   "version": "3.8.1"
  }
 },
 "nbformat": 4,
 "nbformat_minor": 4
}
