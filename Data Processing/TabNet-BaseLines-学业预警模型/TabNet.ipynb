{
 "cells": [
  {
   "cell_type": "code",
   "execution_count": 1,
   "id": "initial_id",
   "metadata": {
    "ExecuteTime": {
     "end_time": "2024-06-05T12:08:57.399157900Z",
     "start_time": "2024-06-05T12:08:36.197148800Z"
    },
    "collapsed": true
   },
   "outputs": [],
   "source": [
    "import pandas as pd\n",
    "from sklearn.model_selection import train_test_split\n",
    "from sklearn.preprocessing import StandardScaler,MinMaxScaler\n",
    "file_path = 'D:/EDM/数据集相关/22级学生行为数据集/DataSet_V5_new_filled.xlsx'\n",
    "df = pd.read_excel(file_path)\n",
    "df = df.drop(columns=['xh'])"
   ]
  },
  {
   "cell_type": "code",
   "execution_count": null,
   "id": "3ba720b602bf5077",
   "metadata": {
    "ExecuteTime": {
     "end_time": "2024-05-28T09:33:16.126478300Z",
     "start_time": "2024-05-28T09:33:15.976691100Z"
    },
    "collapsed": false
   },
   "outputs": [],
   "source": [
    "from sklearn.feature_selection import VarianceThreshold\n",
    "\n",
    "# 进行方差选择法特征选择\n",
    "selector = VarianceThreshold(threshold=0.01)\n",
    "df_new= selector.fit_transform(df)\n",
    "\n",
    "# 输出选择的特征\n",
    "print(\"原始特征数：\", df.shape[1])\n",
    "print(\"过滤后的特征数：\", df_new.shape[1])\n",
    "selected_features = df.columns[selector.get_support()]\n",
    "print(\"选择的特征：\", selected_features)\n",
    "# 将 df_new 转换为 DataFrame，并使用原始的列名\n",
    "df_new = pd.DataFrame(df_new, columns=selected_features)"
   ]
  },
  {
   "cell_type": "code",
   "execution_count": 3,
   "id": "c34f5b9d872e65cd",
   "metadata": {
    "ExecuteTime": {
     "end_time": "2024-06-05T12:09:38.863693200Z",
     "start_time": "2024-06-05T12:09:38.694633300Z"
    },
    "collapsed": false
   },
   "outputs": [],
   "source": [
    "X = df_new.drop(columns=['label'])\n",
    "# X = df.drop(columns=['xh','label'])\n",
    "y = df_new['label']\n",
    "\n",
    "scaler = StandardScaler()\n",
    "min_max_scaler = MinMaxScaler()\n",
    "X = scaler.fit_transform(X)\n",
    "X = min_max_scaler.fit_transform(X)\n",
    "# X_train, X_test, y_train, y_test = train_test_split(X, y, test_size=0.8, random_state=42)\n",
    "X_train, X_temp, y_train, y_temp = train_test_split(X, y, train_size=0.7, stratify=y, random_state=42)\n",
    "\n",
    "# 第二次划分，得到测试集 (20%) 和验证集 (10%)\n",
    "X_test, X_val, y_test, y_val = train_test_split(X_temp, y_temp, test_size=0.3, stratify=y_temp, random_state=42)\n",
    "\n",
    "# X_train, X_test, y_train, y_test = train_test_split(df[df.columns[1:31]], df[\"label\"], train_size=0.8, stratify=df[\"label\"])"
   ]
  },
  {
   "cell_type": "markdown",
   "id": "99695af74dfe8856",
   "metadata": {
    "collapsed": false
   },
   "source": [
    "使用原始数据进行TabNet原始模型训练"
   ]
  },
  {
   "cell_type": "code",
   "execution_count": null,
   "id": "57639c47807aa954",
   "metadata": {
    "ExecuteTime": {
     "end_time": "2024-05-28T09:33:48.966767Z",
     "start_time": "2024-05-28T09:33:48.415271200Z"
    },
    "collapsed": false
   },
   "outputs": [],
   "source": [
    "\n",
    "from pytorch_tabnet.tab_model import TabNetClassifier\n",
    "from sklearn.metrics import classification_report, confusion_matrix, accuracy_score\n",
    "\n",
    "tabnet_model = TabNetClassifier()\n",
    "avg_accuracy =0\n",
    "tabnet_model.fit(\n",
    "    X_train=X_train,\n",
    "    y_train=y_train,\n",
    "    eval_set=[(X_val,y_val), (X_test, y_test)],\n",
    "    eval_name=['train', 'valid'],\n",
    "    eval_metric=['accuracy'],\n",
    "    max_epochs=50\n",
    ")\n",
    "test_preds = tabnet_model.predict(X_test)\n",
    "\n",
    "    # 计算准确率\n",
    "acc = accuracy_score(y_test, test_preds)\n",
    "avg_accuracy += acc\n",
    "result = confusion_matrix(y_test, test_preds)\n",
    "print(\"Confusion Matrix:\")\n",
    "print(result)\n",
    "result1 = classification_report(y_test, test_preds)\n",
    "print(\"Classification Report:\", )\n",
    "print(result1)\n",
    "print(f\"Test accuracy score: {acc}\")"
   ]
  },
  {
   "cell_type": "code",
   "execution_count": null,
   "id": "dd27589dc70946ac",
   "metadata": {
    "collapsed": false
   },
   "outputs": [],
   "source": []
  }
 ],
 "metadata": {
  "kernelspec": {
   "display_name": "Python 3",
   "language": "python",
   "name": "python3"
  },
  "language_info": {
   "codemirror_mode": {
    "name": "ipython",
    "version": 2
   },
   "file_extension": ".py",
   "mimetype": "text/x-python",
   "name": "python",
   "nbconvert_exporter": "python",
   "pygments_lexer": "ipython2",
   "version": "2.7.6"
  }
 },
 "nbformat": 4,
 "nbformat_minor": 5
}
