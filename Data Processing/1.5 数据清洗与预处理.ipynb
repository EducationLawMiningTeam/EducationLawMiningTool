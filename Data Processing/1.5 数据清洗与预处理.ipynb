{
 "cells": [
  {
   "cell_type": "markdown",
   "metadata": {},
   "source": [
    "### 1.5 数据清洗与预处理\n",
    "\n",
    "数据清洗与预处理是数据分析中的关键步骤，主要目的是处理数据中的缺失值、重复值、异常值和不一致的数据格式等问题。以下是一些常见的数据清洗与预处理方法。\n",
    "\n",
    "#### 1.5.1 处理缺失值\n",
    "\n",
    "缺失值在数据分析中是常见的问题，Pandas提供了多种方法来处理缺失值。\n",
    "\n",
    "1. **检测缺失值**："
   ]
  },
  {
   "cell_type": "code",
   "execution_count": 1,
   "metadata": {},
   "outputs": [
    {
     "name": "stdout",
     "output_type": "stream",
     "text": [
      "    Name    Age   City\n",
      "0  False  False  False\n",
      "1  False  False   True\n",
      "2  False   True  False\n",
      "3  False  False  False\n",
      "Name    0\n",
      "Age     1\n",
      "City    1\n",
      "dtype: int64\n"
     ]
    }
   ],
   "source": [
    "import pandas as pd\n",
    "\n",
    "# 创建含有缺失值的DataFrame\n",
    "data_with_nan = {\n",
    "    'Name': ['Alice', 'Bob', 'Charlie', 'David'],\n",
    "    'Age': [24, 27, None, 32],\n",
    "    'City': ['New York', None, 'Los Angeles', 'Chicago']\n",
    "}\n",
    "df_nan = pd.DataFrame(data_with_nan)\n",
    "\n",
    "# 检测缺失值\n",
    "print(df_nan.isnull())\n",
    "\n",
    "# 统计缺失值\n",
    "print(df_nan.isnull().sum())"
   ]
  },
  {
   "cell_type": "markdown",
   "metadata": {},
   "source": [
    "2. **删除缺失值**："
   ]
  },
  {
   "cell_type": "code",
   "execution_count": 2,
   "metadata": {},
   "outputs": [
    {
     "name": "stdout",
     "output_type": "stream",
     "text": [
      "    Name   Age      City\n",
      "0  Alice  24.0  New York\n",
      "3  David  32.0   Chicago\n",
      "      Name\n",
      "0    Alice\n",
      "1      Bob\n",
      "2  Charlie\n",
      "3    David\n"
     ]
    }
   ],
   "source": [
    "# 删除含有缺失值的行\n",
    "df_dropped_rows = df_nan.dropna()\n",
    "\n",
    "# 删除含有缺失值的列\n",
    "df_dropped_columns = df_nan.dropna(axis=1)\n",
    "\n",
    "print(df_dropped_rows)\n",
    "print(df_dropped_columns)"
   ]
  },
  {
   "cell_type": "markdown",
   "metadata": {},
   "source": [
    "3. **填充缺失值**："
   ]
  },
  {
   "cell_type": "code",
   "execution_count": 3,
   "metadata": {},
   "outputs": [
    {
     "name": "stdout",
     "output_type": "stream",
     "text": [
      "      Name      Age         City\n",
      "0    Alice     24.0     New York\n",
      "1      Bob     27.0      Unknown\n",
      "2  Charlie  Unknown  Los Angeles\n",
      "3    David     32.0      Chicago\n",
      "      Name        Age         City\n",
      "0    Alice  24.000000     New York\n",
      "1      Bob  27.000000         None\n",
      "2  Charlie  27.666667  Los Angeles\n",
      "3    David  32.000000      Chicago\n"
     ]
    }
   ],
   "source": [
    "# 使用特定值填充缺失值\n",
    "df_filled_value = df_nan.fillna('Unknown')\n",
    "\n",
    "# 使用均值填充缺失值\n",
    "df_filled_mean = df_nan.copy()\n",
    "df_filled_mean['Age'] = df_filled_mean['Age'].fillna(df_filled_mean['Age'].mean())\n",
    "\n",
    "print(df_filled_value)\n",
    "print(df_filled_mean)"
   ]
  },
  {
   "cell_type": "markdown",
   "metadata": {},
   "source": [
    "#### 1.5.2 处理重复值\n",
    "\n",
    "重复值可能会导致数据分析结果的偏差，需要识别并处理。"
   ]
  },
  {
   "cell_type": "code",
   "execution_count": 4,
   "metadata": {},
   "outputs": [
    {
     "name": "stdout",
     "output_type": "stream",
     "text": [
      "0    False\n",
      "1    False\n",
      "2    False\n",
      "3    False\n",
      "4     True\n",
      "dtype: bool\n",
      "      Name  Age           City\n",
      "0    Alice   24       New York\n",
      "1      Bob   27  San Francisco\n",
      "2  Charlie   22    Los Angeles\n",
      "3    David   32        Chicago\n"
     ]
    }
   ],
   "source": [
    "# 创建含有重复值的DataFrame\n",
    "data_with_duplicates = {\n",
    "    'Name': ['Alice', 'Bob', 'Charlie', 'David', 'Alice'],\n",
    "    'Age': [24, 27, 22, 32, 24],\n",
    "    'City': ['New York', 'San Francisco', 'Los Angeles', 'Chicago', 'New York']\n",
    "}\n",
    "df_duplicates = pd.DataFrame(data_with_duplicates)\n",
    "\n",
    "# 检测重复值\n",
    "print(df_duplicates.duplicated())\n",
    "\n",
    "# 删除重复值\n",
    "df_no_duplicates = df_duplicates.drop_duplicates()\n",
    "\n",
    "print(df_no_duplicates)"
   ]
  },
  {
   "cell_type": "markdown",
   "metadata": {},
   "source": [
    "#### 1.5.3 数据格式转换\n",
    "\n",
    "数据格式的不一致可能会影响数据处理和分析。"
   ]
  },
  {
   "cell_type": "code",
   "execution_count": 6,
   "metadata": {},
   "outputs": [
    {
     "name": "stdout",
     "output_type": "stream",
     "text": [
      "      Name  Age   Salary\n",
      "0    Alice   24  50000.0\n",
      "1      Bob   27  60000.0\n",
      "2  Charlie   22  70000.0\n",
      "3    David   32  80000.0\n"
     ]
    }
   ],
   "source": [
    "# 创建一个DataFrame\n",
    "data = {\n",
    "    'Name': ['Alice', 'Bob', 'Charlie', 'David'],\n",
    "    'Age': ['24', '27', '22', '32'],\n",
    "    'Salary': ['$50000', '$60000', '$70000', '$80000']\n",
    "}\n",
    "df = pd.DataFrame(data)\n",
    "\n",
    "# 转换数据类型\n",
    "df['Age'] = df['Age'].astype(int)\n",
    "\n",
    "# 去除字符串中的符号并转换数据类型\n",
    "df['Salary'] = df['Salary'].replace('[\\$,]', '', regex=True).astype(float)\n",
    "\n",
    "print(df)"
   ]
  },
  {
   "cell_type": "markdown",
   "metadata": {},
   "source": [
    "#### 1.5.4 数据合并与连接\n",
    "\n",
    "在数据分析中，可能需要将多个数据源合并在一起。\n",
    "\n",
    "1. **合并（merge）**："
   ]
  },
  {
   "cell_type": "code",
   "execution_count": 7,
   "metadata": {},
   "outputs": [
    {
     "name": "stdout",
     "output_type": "stream",
     "text": [
      "  Key  Value1  Value2\n",
      "0   A       1       5\n",
      "1   B       2       6\n",
      "  Key  Value1  Value2\n",
      "0   A     1.0     5.0\n",
      "1   B     2.0     6.0\n",
      "2   C     3.0     NaN\n",
      "3   D     4.0     NaN\n",
      "4   E     NaN     7.0\n",
      "5   F     NaN     8.0\n"
     ]
    }
   ],
   "source": [
    "# 创建两个DataFrame\n",
    "df1 = pd.DataFrame({\n",
    "    'Key': ['A', 'B', 'C', 'D'],\n",
    "    'Value1': [1, 2, 3, 4]\n",
    "})\n",
    "\n",
    "df2 = pd.DataFrame({\n",
    "    'Key': ['A', 'B', 'E', 'F'],\n",
    "    'Value2': [5, 6, 7, 8]\n",
    "})\n",
    "\n",
    "# 合并DataFrame\n",
    "df_merged = pd.merge(df1, df2, on='Key', how='inner')  # 内连接\n",
    "print(df_merged)\n",
    "\n",
    "df_merged_outer = pd.merge(df1, df2, on='Key', how='outer')  # 外连接\n",
    "print(df_merged_outer)"
   ]
  },
  {
   "cell_type": "markdown",
   "metadata": {},
   "source": [
    "2. **连接（join）**："
   ]
  },
  {
   "cell_type": "code",
   "execution_count": 8,
   "metadata": {},
   "outputs": [
    {
     "name": "stdout",
     "output_type": "stream",
     "text": [
      "     Value1  Value2\n",
      "Key                \n",
      "A         1       5\n",
      "B         2       6\n",
      "     Value1  Value2\n",
      "Key                \n",
      "A       1.0     5.0\n",
      "B       2.0     6.0\n",
      "C       3.0     NaN\n",
      "D       4.0     NaN\n",
      "E       NaN     7.0\n",
      "F       NaN     8.0\n"
     ]
    }
   ],
   "source": [
    "# 设置索引并连接\n",
    "df1.set_index('Key', inplace=True)\n",
    "df2.set_index('Key', inplace=True)\n",
    "\n",
    "df_joined = df1.join(df2, how='inner')  # 内连接\n",
    "print(df_joined)\n",
    "\n",
    "df_joined_outer = df1.join(df2, how='outer')  # 外连接\n",
    "print(df_joined_outer)"
   ]
  },
  {
   "cell_type": "markdown",
   "metadata": {},
   "source": [
    "3. **拼接（concatenate）**："
   ]
  },
  {
   "cell_type": "code",
   "execution_count": 9,
   "metadata": {},
   "outputs": [
    {
     "name": "stdout",
     "output_type": "stream",
     "text": [
      "     Value1  Value2\n",
      "Key                \n",
      "A       1.0     NaN\n",
      "B       2.0     NaN\n",
      "C       3.0     NaN\n",
      "D       4.0     NaN\n",
      "A       NaN     5.0\n",
      "B       NaN     6.0\n",
      "E       NaN     7.0\n",
      "F       NaN     8.0\n",
      "     Value1  Value2\n",
      "Key                \n",
      "A       1.0     5.0\n",
      "B       2.0     6.0\n",
      "C       3.0     NaN\n",
      "D       4.0     NaN\n",
      "E       NaN     7.0\n",
      "F       NaN     8.0\n"
     ]
    }
   ],
   "source": [
    "# 拼接DataFrame\n",
    "df_concat = pd.concat([df1, df2], axis=0)  # 按行拼接\n",
    "print(df_concat)\n",
    "\n",
    "df_concat_col = pd.concat([df1, df2], axis=1)  # 按列拼接\n",
    "print(df_concat_col)"
   ]
  },
  {
   "cell_type": "markdown",
   "metadata": {},
   "source": [
    "#### 1.5.5 处理异常值\n",
    "\n",
    "异常值可能会极大地影响数据分析结果，需要进行检测和处理。"
   ]
  },
  {
   "cell_type": "code",
   "execution_count": 10,
   "metadata": {},
   "outputs": [
    {
     "name": "stdout",
     "output_type": "stream",
     "text": [
      "   Value  Outlier\n",
      "0     10    False\n",
      "1     12    False\n",
      "2     14    False\n",
      "3     16    False\n",
      "4     18    False\n",
      "5   1000    False\n",
      "   Value  Outlier\n",
      "0     10    False\n",
      "1     12    False\n",
      "2     14    False\n",
      "3     16    False\n",
      "4     18    False\n",
      "5   1000    False\n"
     ]
    }
   ],
   "source": [
    "import numpy as np\n",
    "\n",
    "# 创建一个包含异常值的DataFrame\n",
    "data_with_outliers = {\n",
    "    'Value': [10, 12, 14, 16, 18, 1000]\n",
    "}\n",
    "df_outliers = pd.DataFrame(data_with_outliers)\n",
    "\n",
    "# 使用标准差检测异常值\n",
    "mean = df_outliers['Value'].mean()\n",
    "std = df_outliers['Value'].std()\n",
    "threshold = 3\n",
    "\n",
    "# 标记异常值\n",
    "df_outliers['Outlier'] = (df_outliers['Value'] > mean + threshold * std) | (df_outliers['Value'] < mean - threshold * std)\n",
    "\n",
    "print(df_outliers)\n",
    "\n",
    "# 处理异常值（如删除）\n",
    "df_no_outliers = df_outliers[df_outliers['Outlier'] == False]\n",
    "\n",
    "print(df_no_outliers)"
   ]
  },
  {
   "cell_type": "markdown",
   "metadata": {},
   "source": [
    "### 详细示例\n",
    "\n",
    "综合运用上述方法，对一个示例DataFrame进行完整的清洗和预处理。"
   ]
  },
  {
   "cell_type": "code",
   "execution_count": 11,
   "metadata": {},
   "outputs": [
    {
     "name": "stdout",
     "output_type": "stream",
     "text": [
      "原始数据:\n",
      "      Name   Age  Salary           City\n",
      "0    Alice  24.0  $50000       New York\n",
      "1      Bob  27.0  $60000  San Francisco\n",
      "2  Charlie   NaN  $70000    Los Angeles\n",
      "3    David  32.0  $80000        Chicago\n",
      "4    Alice  24.0  $50000       New York\n",
      "5      Eve   NaN  $90000           None\n",
      "\n",
      "处理缺失值后:\n",
      "      Name    Age  Salary           City\n",
      "0    Alice  24.00  $50000       New York\n",
      "1      Bob  27.00  $60000  San Francisco\n",
      "2  Charlie  26.75  $70000    Los Angeles\n",
      "3    David  32.00  $80000        Chicago\n",
      "4    Alice  24.00  $50000       New York\n",
      "5      Eve  26.75  $90000        Unknown\n",
      "\n",
      "处理重复值后:\n",
      "      Name    Age  Salary           City\n",
      "0    Alice  24.00  $50000       New York\n",
      "1      Bob  27.00  $60000  San Francisco\n",
      "2  Charlie  26.75  $70000    Los Angeles\n",
      "3    David  32.00  $80000        Chicago\n",
      "5      Eve  26.75  $90000        Unknown\n",
      "\n",
      "转换数据格式后:\n",
      "      Name    Age   Salary           City\n",
      "0    Alice  24.00  50000.0       New York\n",
      "1      Bob  27.00  60000.0  San Francisco\n",
      "2  Charlie  26.75  70000.0    Los Angeles\n",
      "3    David  32.00  80000.0        Chicago\n",
      "5      Eve  26.75  90000.0        Unknown\n",
      "\n",
      "标记异常值后:\n",
      "      Name    Age   Salary           City  Outlier\n",
      "0    Alice  24.00  50000.0       New York    False\n",
      "1      Bob  27.00  60000.0  San Francisco    False\n",
      "2  Charlie  26.75  70000.0    Los Angeles    False\n",
      "3    David  32.00  80000.0        Chicago    False\n",
      "5      Eve  26.75  90000.0        Unknown    False\n",
      "\n",
      "删除异常值后:\n",
      "      Name    Age   Salary           City\n",
      "0    Alice  24.00  50000.0       New York\n",
      "1      Bob  27.00  60000.0  San Francisco\n",
      "2  Charlie  26.75  70000.0    Los Angeles\n",
      "3    David  32.00  80000.0        Chicago\n",
      "5      Eve  26.75  90000.0        Unknown\n",
      "\n",
      "合并附加数据后:\n",
      "      Name    Age   Salary           City   Bonus\n",
      "0    Alice  24.00  50000.0       New York  5000.0\n",
      "1      Bob  27.00  60000.0  San Francisco  6000.0\n",
      "2  Charlie  26.75  70000.0    Los Angeles  7000.0\n",
      "3    David  32.00  80000.0        Chicago  8000.0\n",
      "4      Eve  26.75  90000.0        Unknown     NaN\n"
     ]
    }
   ],
   "source": [
    "import pandas as pd\n",
    "import numpy as np\n",
    "\n",
    "# 创建示例DataFrame\n",
    "data = {\n",
    "    'Name': ['Alice', 'Bob', 'Charlie', 'David', 'Alice', 'Eve'],\n",
    "    'Age': [24, 27, np.nan, 32, 24, np.nan],\n",
    "    'Salary': ['$50000', '$60000', '$70000', '$80000', '$50000', '$90000'],\n",
    "    'City': ['New York', 'San Francisco', 'Los Angeles', 'Chicago', 'New York', None]\n",
    "}\n",
    "df = pd.DataFrame(data)\n",
    "\n",
    "print(\"原始数据:\")\n",
    "print(df)\n",
    "\n",
    "# 处理缺失值\n",
    "df['Age'].fillna(df['Age'].mean(), inplace=True)\n",
    "df['City'].fillna('Unknown', inplace=True)\n",
    "\n",
    "print(\"\\n处理缺失值后:\")\n",
    "print(df)\n",
    "\n",
    "# 处理重复值\n",
    "df.drop_duplicates(inplace=True)\n",
    "\n",
    "print(\"\\n处理重复值后:\")\n",
    "print(df)\n",
    "\n",
    "# 转换数据格式\n",
    "df['Salary'] = df['Salary'].replace('[\\$,]', '', regex=True).astype(float)\n",
    "\n",
    "print(\"\\n转换数据格式后:\")\n",
    "print(df)\n",
    "\n",
    "# 处理异常值\n",
    "mean_salary = df['Salary'].mean()\n",
    "std_salary = df['Salary'].std()\n",
    "threshold = 2\n",
    "df['Outlier'] = (df['Salary'] > mean_salary + threshold * std_salary) | (df['Salary'] < mean_salary - threshold * std_salary)\n",
    "\n",
    "print(\"\\n标记异常值后:\")\n",
    "print(df)\n",
    "\n",
    "# 删除异常值\n",
    "df = df[df['Outlier'] == False].drop(columns=['Outlier'])\n",
    "\n",
    "print(\"\\n删除异常值后:\")\n",
    "print(df)\n",
    "\n",
    "# 数据合并\n",
    "additional_data = {\n",
    "    'Name': ['Alice', 'Bob', 'Charlie', 'David'],\n",
    "    'Bonus': [5000, 6000, 7000, 8000]\n",
    "}\n",
    "df_additional = pd.DataFrame(additional_data)\n",
    "\n",
    "df = pd.merge(df, df_additional, on='Name', how='left')\n",
    "\n",
    "print(\"\\n合并附加数据后:\")\n",
    "print(df)"
   ]
  },
  {
   "cell_type": "markdown",
   "metadata": {},
   "source": [
    "通过这些详细的步骤和示例，你可以对数据进行全面的清洗和预处理，确保数据的质量和一致性。"
   ]
  },
  {
   "cell_type": "code",
   "execution_count": null,
   "metadata": {},
   "outputs": [],
   "source": []
  }
 ],
 "metadata": {
  "kernelspec": {
   "display_name": "PyCharm (EQL-DIV-ICML-Python3)",
   "language": "python",
   "name": "pycharm-87c5b2de"
  },
  "language_info": {
   "codemirror_mode": {
    "name": "ipython",
    "version": 3
   },
   "file_extension": ".py",
   "mimetype": "text/x-python",
   "name": "python",
   "nbconvert_exporter": "python",
   "pygments_lexer": "ipython3",
   "version": "3.8.1"
  }
 },
 "nbformat": 4,
 "nbformat_minor": 4
}
