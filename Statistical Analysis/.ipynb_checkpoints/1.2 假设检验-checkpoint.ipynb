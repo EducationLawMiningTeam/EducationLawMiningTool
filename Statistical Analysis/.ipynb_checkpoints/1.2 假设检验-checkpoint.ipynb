{
 "cells": [
  {
   "cell_type": "markdown",
   "metadata": {},
   "source": [
    "### 假设检验 (Hypothesis Testing)简介\n",
    "假设检验是一种统计方法，用于检验样本数据是否支持某个假设。常见的假设检验方法包括t检验、卡方检验和ANOVA分析。在这一部分，我们将介绍这些方法，并使用鸢尾花数据集进行示例分析。\n",
    "\n",
    "### 1. t检验\n",
    "t检验用于比较两个样本的均值，检验它们是否显著不同。\n",
    "\n",
    "#### 独立样本t检验\n",
    "假设我们想比较鸢尾花数据集中两个品种的萼片长度是否存在显著差异。"
   ]
  },
  {
   "cell_type": "code",
   "execution_count": 3,
   "metadata": {},
   "outputs": [
    {
     "name": "stdout",
     "output_type": "stream",
     "text": [
      "t-statistic: -10.52098626754911, p-value: 8.985235037487079e-18\n"
     ]
    }
   ],
   "source": [
    "from scipy.stats import ttest_ind\n",
    "import seaborn as sns\n",
    "import pandas as pd\n",
    "\n",
    "iris = sns.load_dataset('iris')\n",
    "\n",
    "# 将数据按品种分组\n",
    "setosa = iris[iris['species'] == 'setosa']['sepal_length']\n",
    "versicolor = iris[iris['species'] == 'versicolor']['sepal_length']\n",
    "\n",
    "# 独立样本t检验\n",
    "t_stat, p_value = ttest_ind(setosa, versicolor)\n",
    "print(f\"t-statistic: {t_stat}, p-value: {p_value}\")"
   ]
  },
  {
   "cell_type": "markdown",
   "metadata": {},
   "source": [
    "### 2. 卡方检验\n",
    "卡方检验用于检验分类变量之间的独立性。\n",
    "\n",
    "假设我们想检验鸢尾花数据集中不同品种的频率分布是否均匀。"
   ]
  },
  {
   "cell_type": "code",
   "execution_count": 4,
   "metadata": {},
   "outputs": [
    {
     "name": "stdout",
     "output_type": "stream",
     "text": [
      "Chi-square: 0.0, p-value: 1.0\n"
     ]
    }
   ],
   "source": [
    "from scipy.stats import chi2_contingency\n",
    "\n",
    "# 频率分布表\n",
    "contingency_table = pd.crosstab(index=iris['species'], columns='count')\n",
    "\n",
    "# 卡方检验\n",
    "chi2, p, dof, expected = chi2_contingency(contingency_table)\n",
    "print(f\"Chi-square: {chi2}, p-value: {p}\")"
   ]
  },
  {
   "cell_type": "markdown",
   "metadata": {},
   "source": [
    "### 3. ANOVA分析\n",
    "ANOVA（方差分析）用于比较三个或更多样本的均值，检验它们是否显著不同。\n",
    "\n",
    "假设我们想比较鸢尾花数据集中三个品种的萼片长度是否存在显著差异。"
   ]
  },
  {
   "cell_type": "code",
   "execution_count": 7,
   "metadata": {},
   "outputs": [
    {
     "name": "stdout",
     "output_type": "stream",
     "text": [
      "F-statistic: 119.26450218450468, p-value: 1.6696691907693826e-31\n"
     ]
    }
   ],
   "source": [
    "from scipy.stats import f_oneway\n",
    "\n",
    "# 分组数据\n",
    "setosa = iris[iris['species'] == 'setosa']['sepal_length']\n",
    "versicolor = iris[iris['species'] == 'versicolor']['sepal_length']\n",
    "virginica = iris[iris['species'] == 'virginica']['sepal_length']\n",
    "\n",
    "# 方差分析\n",
    "f_stat, p_value = f_oneway(setosa, versicolor, virginica)\n",
    "print(f\"F-statistic: {f_stat}, p-value: {p_value}\")"
   ]
  },
  {
   "cell_type": "markdown",
   "metadata": {},
   "source": [
    "### 示例分析\n",
    "我们将对鸢尾花数据集进行假设检验，并回答以下问题：\n",
    "1. setosa和versicolor品种的萼片长度是否存在显著差异？\n",
    "2. 不同品种的频率分布是否均匀？\n",
    "3. 三个品种的萼片长度是否存在显著差异？"
   ]
  },
  {
   "cell_type": "code",
   "execution_count": 8,
   "metadata": {},
   "outputs": [
    {
     "name": "stdout",
     "output_type": "stream",
     "text": [
      "t-statistic: -10.52098626754911, p-value: 8.985235037487079e-18\n",
      "Chi-square: 0.0, p-value: 1.0\n",
      "F-statistic: 119.26450218450468, p-value: 1.6696691907693826e-31\n"
     ]
    }
   ],
   "source": [
    "# 示例数据集：鸢尾花数据\n",
    "iris = sns.load_dataset('iris')\n",
    "\n",
    "# 独立样本t检验\n",
    "setosa = iris[iris['species'] == 'setosa']['sepal_length']\n",
    "versicolor = iris[iris['species'] == 'versicolor']['sepal_length']\n",
    "t_stat, p_value = ttest_ind(setosa, versicolor)\n",
    "print(f\"t-statistic: {t_stat}, p-value: {p_value}\")\n",
    "\n",
    "# 卡方检验\n",
    "contingency_table = pd.crosstab(index=iris['species'], columns='count')\n",
    "chi2, p, dof, expected = chi2_contingency(contingency_table)\n",
    "print(f\"Chi-square: {chi2}, p-value: {p}\")\n",
    "\n",
    "# 方差分析\n",
    "setosa = iris[iris['species'] == 'setosa']['sepal_length']\n",
    "versicolor = iris[iris['species'] == 'versicolor']['sepal_length']\n",
    "virginica = iris[iris['species'] == 'virginica']['sepal_length']\n",
    "f_stat, p_value = f_oneway(setosa, versicolor, virginica)\n",
    "print(f\"F-statistic: {f_stat}, p-value: {p_value}\")"
   ]
  },
  {
   "cell_type": "markdown",
   "metadata": {},
   "source": [
    "### 问题讨论\n",
    "\n",
    "1. **setosa和versicolor品种的萼片长度是否存在显著差异？**  \n",
    "通过t检验结果的p-value，如果p-value小于0.05，我们可以认为setosa和versicolor的萼片长度存在显著差异。\n",
    "\n",
    "2. **不同品种的频率分布是否均匀？**  \n",
    "通过卡方检验结果的p-value，如果p-value小于0.05，我们可以认为不同品种的频率分布不均匀。\n",
    "\n",
    "3. **三个品种的萼片长度是否存在显著差异？**  \n",
    "通过ANOVA分析结果的p-value，如果p-value小于0.05，我们可以认为三个品种的萼片长度存在显著差异。"
   ]
  },
  {
   "cell_type": "code",
   "execution_count": null,
   "metadata": {},
   "outputs": [],
   "source": []
  }
 ],
 "metadata": {
  "kernelspec": {
   "display_name": "PyCharm (EQL-DIV-ICML-Python3)",
   "language": "python",
   "name": "pycharm-87c5b2de"
  },
  "language_info": {
   "codemirror_mode": {
    "name": "ipython",
    "version": 3
   },
   "file_extension": ".py",
   "mimetype": "text/x-python",
   "name": "python",
   "nbconvert_exporter": "python",
   "pygments_lexer": "ipython3",
   "version": "3.8.1"
  }
 },
 "nbformat": 4,
 "nbformat_minor": 4
}
